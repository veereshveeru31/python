{
 "cells": [
  {
   "cell_type": "code",
   "execution_count": 1,
   "id": "ce492ebb-2f02-49a4-940a-f4d8f1b39618",
   "metadata": {},
   "outputs": [
    {
     "name": "stdout",
     "output_type": "stream",
     "text": [
      "Second largest element: 20\n"
     ]
    }
   ],
   "source": [
    "def second_largest(numbers):\n",
    "    if len(numbers) < 2:\n",
    "        return \"List should contain at least two elements\"\n",
    "    \n",
    "    largest = max(numbers[0], numbers[1])\n",
    "    second_largest = min(numbers[0], numbers[1])\n",
    "    \n",
    "    for num in numbers[2:]:\n",
    "        if num > largest:\n",
    "            second_largest = largest\n",
    "            largest = num\n",
    "        \n",
    "        elif num > second_largest and num != largest:\n",
    "            second_largest = num\n",
    "    \n",
    "    return second_largest\n",
    "\n",
    "numbers = [15, 30, 6, 8, 20]\n",
    "print(\"Second largest element:\", second_largest(numbers))"
   ]
  },
  {
   "cell_type": "code",
   "execution_count": 2,
   "id": "7108fe00-2d57-4621-8013-67e06117a0af",
   "metadata": {},
   "outputs": [
    {
     "name": "stdout",
     "output_type": "stream",
     "text": [
      "Reversed sentence: thakur suhas hello\n"
     ]
    }
   ],
   "source": [
    "def reverse_sentence(sentence):\n",
    "    words = sentence.split()\n",
    "    reversed_words = words[::-1]\n",
    "    reversed_sentence = ' '.join(reversed_words)\n",
    "    return reversed_sentence\n",
    "\n",
    "input_sentence = \"hello  suhas thakur\"\n",
    "reversed_sentence = reverse_sentence(input_sentence)\n",
    "print(\"Reversed sentence:\", reversed_sentence)"
   ]
  },
  {
   "cell_type": "code",
   "execution_count": 4,
   "id": "05d332cf-b36f-4ad2-bebf-d0cf6827b6eb",
   "metadata": {},
   "outputs": [
    {
     "name": "stdin",
     "output_type": "stream",
     "text": [
      " veeresh\n"
     ]
    },
    {
     "name": "stdout",
     "output_type": "stream",
     "text": [
      "count: 3\n"
     ]
    }
   ],
   "source": [
    "text = input()\n",
    "count = 0\n",
    "for char in text:\n",
    "    if char in (\"aAeEiIoOuU\"):\n",
    "        count += 1\n",
    "print(\"count:\",count)"
   ]
  },
  {
   "cell_type": "code",
   "execution_count": 6,
   "id": "7ba05fc4-269d-4fcb-a265-e2b90acb387e",
   "metadata": {},
   "outputs": [
    {
     "name": "stdin",
     "output_type": "stream",
     "text": [
      "Enter the temperature :  33\n"
     ]
    },
    {
     "name": "stdout",
     "output_type": "stream",
     "text": [
      "Temperature in Fahrenheit: 91.4\n"
     ]
    }
   ],
   "source": [
    "celsius=int(input(\"Enter the temperature : \"))\n",
    "fahrenheit = (celsius * 9/5) + 32\n",
    "print(\"Temperature in Fahrenheit:\",fahrenheit)"
   ]
  },
  {
   "cell_type": "code",
   "execution_count": 7,
   "id": "3fabbc97-6520-4b6c-b505-5cdd5ba17896",
   "metadata": {},
   "outputs": [
    {
     "name": "stdout",
     "output_type": "stream",
     "text": [
      "Second largest element: 20\n"
     ]
    }
   ],
   "source": [
    "def second_largest(numbers):\n",
    "    if len(numbers) < 2:\n",
    "        return \"List should contain at least two elements\"\n",
    "    \n",
    "    largest = max(numbers[0], numbers[1])\n",
    "    second_largest = min(numbers[0], numbers[1])\n",
    "    \n",
    "    for num in numbers[2:]:\n",
    "        if num > largest:\n",
    "            second_largest = largest\n",
    "            largest = num\n",
    "        elif num > second_largest and num != largest:\n",
    "            second_largest = num\n",
    "    \n",
    "    return second_largest\n",
    "\n",
    "numbers = [15, 30, 6, 8, 20]\n",
    "print(\"Second largest element:\", second_largest(numbers))"
   ]
  },
  {
   "cell_type": "code",
   "execution_count": null,
   "id": "96a0cc01-7829-4a8f-92d5-bc2568d58f2c",
   "metadata": {},
   "outputs": [],
   "source": []
  }
 ],
 "metadata": {
  "kernelspec": {
   "display_name": "Python 3 (ipykernel)",
   "language": "python",
   "name": "python3"
  },
  "language_info": {
   "codemirror_mode": {
    "name": "ipython",
    "version": 3
   },
   "file_extension": ".py",
   "mimetype": "text/x-python",
   "name": "python",
   "nbconvert_exporter": "python",
   "pygments_lexer": "ipython3",
   "version": "3.12.0"
  }
 },
 "nbformat": 4,
 "nbformat_minor": 5
}
